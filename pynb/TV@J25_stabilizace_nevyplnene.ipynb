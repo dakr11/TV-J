{
 "cells": [
  {
   "cell_type": "markdown",
   "metadata": {},
   "source": [
    "# TV@J 2025 - Měření Magnetického Pole a Polohy Plazmatu"
   ]
  },
  {
   "cell_type": "markdown",
   "metadata": {},
   "source": [
    "## Měření Magnetického Pole\n",
    "K určení magnetického pole lze využít **Mirnovových cívek (MC)** řadících se mezi tzv. pasivní magnetické diagnostiky. To znamená, že zaznamenávají napětí indukované změnou magnetického indukčního toku: $\\epsilon=-\\frac{d\\Phi}{dt}$. Má-li sonda více závitů, je její citlivost na změnu magnetického pole dána součtem ploch jejích závitů $S_i$, což označujeme jako $A_\\mathrm{eff}=\\sum S_i$. Dále platí, že $\\Phi=B\\cdot A_\\mathrm{eff}$. \n",
    "\n",
    "### MC na tokamaku GOLEM\n",
    "Na tokamaku GOLEM jsou k dispozi čtyři Mirnovovy cívky umístěné na mezikruží ve stínu limiteru (viz následující obrázek), které se běžně využívají k určování vertikální a horitontální polohy. Každá z cívek má 91 závitů a jejich středy se nachází 93 mm od centra komory. Efektivní plocha každé z těchto cívek činí $A_\\mathrm{eff}=3,8\\cdot10^{-3}$ $\\mathrm{m^{2}}$.\n",
    "\n",
    "### Vnitřní Kvadrupól\n",
    "Tokamak GOLEM také disponuje čtveřicí cívek o jednom závitu, které dohromady tvoří tzv. vnitřní kvadrupól. Ten byl v minulosti využíván k horizontální stabilizaci plazmatu, nicméně mi ho v rámci tohoto miniprojektu využijeme k měření průměrného vertikálního magnetického pole. Efektivní plocha je v tomto případě $A_\\mathrm{eff}=0,83$ $\\mathrm{m^{2}}$.\n"
   ]
  },
  {
   "cell_type": "markdown",
   "metadata": {},
   "source": [
    "<table>\n",
    "  <tr>\n",
    "    <td valign=\"top\"><img src=\"Fig/position_mc.jpg\" width=80%></td>\n",
    "  </tr>\n",
    "</table>"
   ]
  },
  {
   "cell_type": "markdown",
   "metadata": {},
   "source": [
    "### Načtení potřebných knihoven"
   ]
  },
  {
   "cell_type": "code",
   "execution_count": null,
   "metadata": {
    "tags": []
   },
   "outputs": [],
   "source": [
    "import numpy as np\n",
    "import matplotlib.pyplot as plt\n",
    "import matplotlib.patches as patches\n",
    "import matplotlib.font_manager as font_manager\n",
    "\n",
    "from scipy import integrate, signal, interpolate\n",
    "from scipy.io import loadmat\n",
    "\n",
    "import pandas as pd\n",
    "import requests\n"
   ]
  },
  {
   "cell_type": "markdown",
   "metadata": {},
   "source": [
    "### Definování url adres odkud se mají brát data a požadovaná čísla výbojů"
   ]
  },
  {
   "cell_type": "code",
   "execution_count": null,
   "metadata": {
    "tags": []
   },
   "outputs": [],
   "source": [
    "BDdata_URL = \"http://golem.fjfi.cvut.cz/shots/{shot_no}/Diagnostics/BasicDiagnostics/Results/{identifier}.csv\"                  # Basic Diagnostics\n",
    "MCdata_URL = \"http://golem.fjfi.cvut.cz/shots/{shot_no}/Diagnostics/LimiterMirnovCoils/U_mc{identifier}.csv\"                    # Mirnov Coils\n",
    "FCdata_URL = \"http://golem.fjfi.cvut.cz/shots/{shot_no}/Diagnostics/FastCameras/Camera_{identifier}/Camera{identifier}Position\" # Fast Cameras\n",
    "IQdata_URL = \"http://golem.fjfi.cvut.cz/shots/{shot_no}/Devices/DASs/NI-squid/{identifier}.csv\"                                 # Inner Quadrupole\n",
    "PSdata_URL = \"http://golem.fjfi.cvut.cz/shots/{shot_no}/Infrastructure/PositionStabilization/U^{identifier}_currclamp.csv\"      # Position Stabilization\n",
    "\n",
    "shot_no     = 49264 # number of selected shot\n",
    "vacuum_shot = 49258 # number of vacuum shot with the same parameters as the selected shot_no (to elimate parasitic signal)\n"
   ]
  },
  {
   "cell_type": "markdown",
   "metadata": {},
   "source": [
    "### Definování funkcí pro načtení dat z dané diagnostiky"
   ]
  },
  {
   "cell_type": "code",
   "execution_count": null,
   "metadata": {
    "tags": []
   },
   "outputs": [],
   "source": [
    "ds = np.DataSource(destpath='')  \n",
    "\n",
    "def open_remote(shot_no, identifier, url_template):\n",
    "    return ds.open(url_template.format(shot_no=shot_no, identifier=identifier))\n",
    "\n",
    "def read_signal(shot_no, identifier, url, names=None, index_col = 0): \n",
    "    file = open_remote(shot_no, identifier, url)\n",
    "    if names is None: \n",
    "        return pd.read_csv(file, index_col = index_col)\n",
    "    else:    \n",
    "        return pd.read_csv(file, names=names, index_col = index_col, header = None)\n",
    "    \n",
    "def smooth(data, win=11): \n",
    "    smoothed_data = signal.savgol_filter(data, win, 3)\n",
    "    return smoothed_data    \n"
   ]
  },
  {
   "cell_type": "markdown",
   "metadata": {},
   "source": [
    "### **Zpracování signálu**\n",
    "\n",
    "#### **Odečtení offsetu**\n",
    "Jelikož ještě před začátkem požadovaného měření sondy zaznamenávají jisté parazitní napětí (šum/offset), kvůli kterému nezačíná měření na nulové hodnotě, je nejdříve nutné tento offset odečíst. To lze provést odečtením průměru z několika hodnot signálu naměřeného sondou ještě před začátkem výboje.\n",
    "\n",
    "#### **Integrace signálu**\n",
    "Jak již bylo řečeno výše cívky zaznamenávají napětí indukované změnou, v našem případě, poloidálního magnetického pole generovaného plazmatem. K tomu abychom získali magnetické pole, je nutné naměřený signál zintegrovat a přenásobit příslušnou konstanou ($A_\\mathrm{eff}$). Tedy: $B(t)=\\frac{1}{A_\\mathrm{eff}}\\int_{0}^{t} U_\\mathrm{sig}(\\tau)d\\tau$. \n",
    "\n",
    "\n",
    "#### **Eliminace parazitního signálu od $B_t$**\n",
    "Dále je třeba uvážit, že cívky nemusí být (a také nejsou) umístěny přesně tak, aby jejich osy byly kolmé k toroidílnímu magnetickému poli. To má za následek, že získaný signál neodpovídá pouze poloidálnímu magnetickému poli, ale promítne se do něj parazitní signál od pole toroidálního, který je nutný eliminovat. \n",
    "\n",
    "K eliminaci využijeme data z vakuového výboje (bez napuštění pracovního plynu), případně výboje, u kterého nedošlo k průrazu plynu do plazmatu. V takovém případě totiž nemělo ani jak vzniknout pole poloidální a signál zaznamenaný cívkami tak odpovídá pouze parazitnímu signálu od toroidálního magnetického pole. Tento signál následně stačí od výbojů s plazmatem odečíst a získat tak požadované poloidální magnetické pole."
   ]
  },
  {
   "cell_type": "code",
   "execution_count": null,
   "metadata": {
    "tags": []
   },
   "outputs": [],
   "source": [
    "def process_magnetic_measurements(raw_data, calibration_const, eliminate_vacuum=False, raw_data_vacuum=None, name=None, plot_elimination = True):\n",
    "    \"\"\"\n",
    "    Process magnetic signal: removes offset, integrates, optionally subtracts vacuum (stray) field.\n",
    "    \n",
    "    Args:\n",
    "        raw_data (pd.Series):        Measured magnetic signal\n",
    "        const (float):               Scaling constant for integration.\n",
    "        eliminate_vacuum (bool):     Whether to subtract vacuum background\n",
    "        raw_data_vacuum (pd.Series): Corresponding vacuum signal (if eliminate_vacuum is True)\n",
    "        name (str):                  Name for the resulting Series\n",
    "    \n",
    "    Returns:\n",
    "        Integrated magnetic signal, optionally corrected for vacuum background (pd.Series)\n",
    "    \"\"\"\n",
    "    \n",
    "    # Clean raw signal\n",
    "    data = raw_data.replace([np.inf, -np.inf, np.nan], 0)\n",
    "\n",
    "    # Remove offset from early signal (pre-discharge)\n",
    "    data -= data.loc[:0.9e-3].mean()\n",
    "\n",
    "    # Integrate magnetic signal\n",
    "    integrated_data = integrate.cumtrapz(data, x=data.index, initial=0) * calibration_const\n",
    "    integrated_data = pd.Series(integrated_data, index=data.index * 1000, name=name)  # time in ms\n",
    "\n",
    "    if eliminate_vacuum:\n",
    "        if raw_data_vacuum is None:\n",
    "            raise ValueError(\"raw_data_vacuum must be provided if eliminate_vacuum is True.\")\n",
    "        \n",
    "        data_vacuum = raw_data_vacuum.replace([np.inf, -np.inf, np.nan], 0)\n",
    "        data_vacuum -= data_vacuum.loc[:0.9e-3].mean()\n",
    "        \n",
    "        integrated_vacuum = integrate.cumtrapz(data_vacuum, x=data_vacuum.index, initial=0) * calibration_const\n",
    "        integrated_vacuum = pd.Series(integrated_vacuum, index=data_vacuum.index * 1000, name=name + \"_vacuum\")\n",
    "        \n",
    "        # Subtract vacuum (stray field) contribution\n",
    "        data_eliminated = integrated_data - integrated_vacuum\n",
    "        data_eliminated.name = name + \"_corrected\"\n",
    "        \n",
    "        # ======== Plot elimination process ========== \n",
    "        # (for educational purposes)\n",
    "        if plot_elimination:\n",
    "            fig, ax = plt.subplots()\n",
    "            integrated_vacuum.plot(label='vacuum data')\n",
    "            integrated_data.plot(label='raw data')\n",
    "            data_eliminated.plot(label='eliminated data')\n",
    "            ax.legend()\n",
    "            plt.title(name)\n",
    "        \n",
    "        return data_eliminated\n",
    "\n",
    "    return integrated_data"
   ]
  },
  {
   "cell_type": "markdown",
   "metadata": {},
   "source": [
    "### Magnetické pole měřené Mirnovovými cívkami a vnitřrním kvadrupólem"
   ]
  },
  {
   "cell_type": "code",
   "execution_count": null,
   "metadata": {
    "tags": []
   },
   "outputs": [],
   "source": [
    "# Vertical Magnetic Field Measured by Inner Quadrupole\n",
    "# load data\n",
    "dataNI = read_signal(shot_no, identifier = 'rawData', url=IQdata_URL, names=None)\n",
    "U_InnerQuadr = dataNI['ch19'] # ch20 in plot on webpage but here indexing starts from 0\n",
    "# process raw signal (elimination, integration,...)\n",
    "B_InnerQuadr = process_magnetic_measurements(U_InnerQuadr,calibration_const = 1/0.83, eliminate_vacuum=False, name=\"B_InnerQuadr\")*1e3 # T -> mT\n",
    "\n",
    "# Local Magnetic Field Measured by four MCs\n",
    "B_mc = pd.DataFrame()\n",
    "# iterate over four MCs\n",
    "for nMC in [1,9,5,13]:\n",
    "    # load data\n",
    "    U_mc = read_signal(shot_no, identifier = nMC, url=MCdata_URL, names=['Time', f'U_mc{nMC}'])\n",
    "    U_mc = U_mc.sort_index()\n",
    "    if vacuum_shot is not None:\n",
    "        # eliminate stray magnetic fields using a vacuum shot with similar parameters\n",
    "        U_mc_vac = read_signal(vacuum_shot, identifier = nMC, url=MCdata_URL, names=['Time', f'U_mc{nMC}'])\n",
    "        U_mc_vac = U_mc_vac.sort_index()\n",
    "        B_mc[f'B_mc{nMC}'] = process_magnetic_measurements(U_mc.iloc[:, 0],calibration_const = 1/(3.8e-3), eliminate_vacuum=True, name=f\"B_mc{nMC}\",\n",
    "                                                           raw_data_vacuum=U_mc_vac.iloc[:, 0], plot_elimination=False)*1e3 # T -> mT\n",
    "    else:\n",
    "        # use data w/o elimination of stray mag. field\n",
    "        B_mc[f'B_mc{nMC}'] = process_magnetic_measurements(U_mc.iloc[:, 0],calibration_const = 1/(3.8e-3), eliminate_vacuum=False, name=f\"B_mc{nMC}\")*1e3 # T -> mT\n",
    "    "
   ]
  },
  {
   "cell_type": "markdown",
   "metadata": {},
   "source": [
    "### Vykreslení zpracovaných signálů od jednotlivých magnetikých diagnostik"
   ]
  },
  {
   "cell_type": "code",
   "execution_count": null,
   "metadata": {
    "tags": []
   },
   "outputs": [],
   "source": [
    "\n",
    "fig, ax = plt.subplots(1,3, figsize=(12,3))\n",
    "# plot signals measured by mc1(LFS) and mc9(HFS) ~ local vertical mag. field Bz \n",
    "B_mc['B_mc1'].plot(ax=ax[0], label = 'mc1')\n",
    "B_mc['B_mc9'].plot(ax=ax[0], label = 'mc9')\n",
    "ax[0].set(xlabel = 'Time [ms]', ylabel = '$B_z$ [mT]')\n",
    "\n",
    "# plot signals measured by mc5(top) and mc13(bottom) ~ local horizontal mag. field Br \n",
    "B_mc['B_mc5'].plot(ax=ax[1], label = 'mc5')\n",
    "B_mc['B_mc13'].plot(ax=ax[1], label = 'mc13')\n",
    "ax[1].set(xlabel = 'Time [ms]', ylabel = '$B_r$ [mT]')\n",
    "\n",
    "# plot signals measured by Inner Quadrupole ~ mean vertical mag. field Bz \n",
    "B_InnerQuadr.plot(ax=ax[2], label = 'Inner Quadrupole')\n",
    "ax[2].set(xlabel = 'Time [ms]', ylabel = '$B_z$ [mT]')\n",
    "\n",
    "for ax_i in ax.flatten():\n",
    "    ax_i.grid(True)\n",
    "    ax_i.legend()\n",
    "    \n",
    "plt.tight_layout()\n"
   ]
  },
  {
   "cell_type": "markdown",
   "metadata": {},
   "source": [
    "### Začátek a konec výboje"
   ]
  },
  {
   "cell_type": "code",
   "execution_count": null,
   "metadata": {},
   "outputs": [],
   "source": [
    "plasma_start = float(requests.get(f'http://golem.fjfi.cvut.cz/shots/{shot_no}/Diagnostics/PlasmaDetection/Results/t_plasma_start').text)\n",
    "plasma_end = float(requests.get(f'http://golem.fjfi.cvut.cz/shots/{shot_no}/Diagnostics/PlasmaDetection/Results/t_plasma_end').text)\n",
    "\n",
    "print ('Plasma start =', round(plasma_start, 3), 'ms')\n",
    "print ('Plasma end =', round(plasma_end, 3), 'ms')\n"
   ]
  },
  {
   "cell_type": "markdown",
   "metadata": {},
   "source": [
    "## Výpočet polohy plazmatu\n",
    "Pro výpočet polohy plazmatu využijeme přiblížení rovného vodiče a tedy zanedbáme v našem výpočtu toroidální efekty. Magnetické pole generované přímým vodičem je dáno vztahem $B(r)=\\frac{\\mu_0 I_p}{2\\pi r}$. \n",
    "\n",
    "Uvažme nyní kladný vertikální posun $\\Delta z>0$ středu plazmatu z centra komory směrem nahoru. Potom velikost poloidálního magnetického pole naměřená cívkou $mc_5$ je dána předpisem: $B_{mc_5}=\\frac{\\mu_0 I_p}{2\\pi (r-\\Delta z)}$ a cívkou $mc_{13}$ předpisem: $B_{mc_{13}}=\\frac{\\mu_0 I_p}{2\\pi (r+\\Delta z)}$. Z toho již, provedením algebraických úprav a dosazením $b$ za $r$, pro velikost vertikálního posuvu dostáváme $\\Delta z=\\frac{B_{mc_5}-B_{mc_{13}}}{B_{mc_5}+B_{mc_{13}}}\\cdot b$, kde $b=93$ $\\mathrm{mm}$. \n",
    "\n",
    "Analogicky lze dospět i ke vztahu pro změnu radiální polohy $\\Delta r=\\frac{B_{mc_1}-B_{mc_9}}{B_{mc_1}+B_{mc_9}}\\cdot b$."
   ]
  },
  {
   "cell_type": "markdown",
   "metadata": {},
   "source": [
    "### Radiální poloha plazmatu $\\Delta r$\n",
    "$\\Delta r=\\frac{B_{mc_1}-B_{mc_9}}{B_{mc_1}+B_{mc_9}}\\cdot b$, kde $b=93$ $\\mathrm{mm}$"
   ]
  },
  {
   "cell_type": "markdown",
   "metadata": {},
   "source": [
    "<div class=\"alert alert-block alert-info\">\n",
    "\n",
    "**ÚKOL:** Doplňte následující funkci tak, aby vracela změnu radiální polohy středu středu plazmatu $\\Delta r$ (i s časem -> formát pd.Series).\n",
    "  \n",
    "    \n",
    "Pozn. Sběr dat probíhal po mnohem delší dobu než je délka výboje => signál je vhodné \"oříznout\", tj. místo *return r* lze použít *return r.loc[plasma_start:plasma_end]*.\n",
    "    \n",
    "</div> "
   ]
  },
  {
   "cell_type": "code",
   "execution_count": null,
   "metadata": {},
   "outputs": [],
   "source": [
    "def horpos(Bmc1, Bmc9):    \n",
    "    \"\"\"\n",
    "    Calculate horizontal plasma position based on Mirnov coil measurements.\n",
    "\n",
    "    Parameters:\n",
    "        Bmc1 (pd.Series): Magnetic field signal from Mirnov coil #1.\n",
    "        Bmc9 (pd.Series): Magnetic field signal from Mirnov coil #9.\n",
    "\n",
    "    Returns:\n",
    "        pd.Series: Horizontal plasma position (r) in millimeters.\n",
    "    \"\"\"\n",
    "    \n",
    "    \n",
    "    #r = ....\n",
    "    r = r.replace([np.nan], value = 0)\n",
    "    \n",
    "    return r.loc[plasma_start:plasma_end]\n",
    "    "
   ]
  },
  {
   "cell_type": "code",
   "execution_count": null,
   "metadata": {},
   "outputs": [],
   "source": [
    "# Calculate horizontal plasma position\n",
    "r = horpos(B_mc['B_mc1'], B_mc['B_mc9'])\n",
    "\n",
    "# Plot horizontal plasma position (displacement of the plasma axis from the chamber center)\n",
    "fig,ax=plt.subplots()\n",
    "ax = r.plot()\n",
    "ax.set(ylim=(-85,85), xlim=(plasma_start,plasma_end), xlabel= 'Time [ms]', ylabel = '$\\Delta$r [mm]', title = 'Radial plasma position #{}'.format(shot_no))\n",
    "ax.axhline(y=0, color='k', ls='--', lw=1, alpha=0.4)"
   ]
  },
  {
   "cell_type": "markdown",
   "metadata": {},
   "source": [
    "### Vertikální poloha plazmatu $\\Delta z$\n",
    "$z=\\frac{B_{mc_5}-B_{mc_{13}}}{B_{mc_5}+B_{mc_{13}}}\\cdot b$, kde $b=93$ $\\mathrm{mm}$"
   ]
  },
  {
   "cell_type": "markdown",
   "metadata": {},
   "source": [
    "<div class=\"alert alert-block alert-info\">\n",
    "\n",
    "**ÚKOL:** Doplňte následující funkci tak, aby vracela změnu vertikální polohy středu středu plazmatu $\\Delta z$ (i s časem -> formát pd.Series) \n",
    "    \n",
    "</div> "
   ]
  },
  {
   "cell_type": "code",
   "execution_count": null,
   "metadata": {},
   "outputs": [],
   "source": [
    "def verpos(Bmc5, Bmc13):\n",
    "    \"\"\"\n",
    "    Calculate vertical plasma position based on Mirnov coil measurements.\n",
    "\n",
    "    Parameters:\n",
    "        Bmc5  (pd.Series): Magnetic field signal from Mirnov coil #5.\n",
    "        Bmc13 (pd.Series): Magnetic field signal from Mirnov coil #13.\n",
    "\n",
    "    Returns:\n",
    "        pd.Series: Vertical plasma position (z) in millimeters.\n",
    "    \"\"\"\n",
    "    \n",
    "    \n",
    "    return z.loc[plasma_start:plasma_end]"
   ]
  },
  {
   "cell_type": "markdown",
   "metadata": {},
   "source": [
    "<div class=\"alert alert-block alert-info\">\n",
    "\n",
    "**ÚKOL:** Vykreslete změnu vertikální polohy $\\Delta z$ v závislosti na čase. \n",
    "    (Inspirujte se radiální polohou.)\n",
    "    \n",
    "</div> "
   ]
  },
  {
   "cell_type": "code",
   "execution_count": null,
   "metadata": {},
   "outputs": [],
   "source": [
    "# Calculate vertical plasma position\n",
    "# ...\n",
    "# Plot vertical plasma position (displacement of the plasma axis from the chamber center)\n",
    "fig, ax = plt.subplots()\n",
    "# ..."
   ]
  },
  {
   "cell_type": "markdown",
   "metadata": {},
   "source": [
    "### Poloměr plazmatu $a$ \n",
    "Na tokamaku GOLEM je velikost plazmatického prstence omezena kruhovou clonou tzv. limiterem, umístěným na pozici $r=85$ mm. "
   ]
  },
  {
   "cell_type": "markdown",
   "metadata": {},
   "source": [
    "<div class=\"alert alert-block alert-info\">\n",
    "\n",
    "**ÚKOL:** Na základě znalosti změny vertikální polohy $\\Delta z$, radiální polohy $\\Delta r$ a polohy limiteru (limituje/ořezává prstenec plazmatu) odvoďte vzorec pro výpočet poloměru plazmatu $a$.\n",
    "    \n",
    "</div> "
   ]
  },
  {
   "cell_type": "markdown",
   "metadata": {},
   "source": [
    "<div class=\"alert alert-block alert-warning\">\n",
    "\n",
    "**Vzorec pro výpočet poloměru plazmatu:** $a = $\n",
    "    \n",
    "</div> "
   ]
  },
  {
   "cell_type": "markdown",
   "metadata": {},
   "source": [
    "<div class=\"alert alert-block alert-info\">\n",
    "\n",
    "**ÚKOL:** Nyní tento vzorec využijte a napište funkci vracející poloměr plazmatu (i s časem -> formát pd.Series).\n",
    "    \n",
    "</div> "
   ]
  },
  {
   "cell_type": "code",
   "execution_count": null,
   "metadata": {},
   "outputs": [],
   "source": [
    "def plasma_radius(B_mc):\n",
    "    \n",
    "    #a = ...\n",
    "    a = a.replace([np.nan], value = 0)\n",
    "    return a.loc[plasma_start:plasma_end]"
   ]
  },
  {
   "cell_type": "markdown",
   "metadata": {},
   "source": [
    "<div class=\"alert alert-block alert-info\">\n",
    "\n",
    "**ÚKOL:** Vykreslete poloměr plazmatu $a$ v závislosti na čase. \n",
    "    \n",
    "</div> "
   ]
  },
  {
   "cell_type": "code",
   "execution_count": null,
   "metadata": {},
   "outputs": [],
   "source": [
    "\n",
    "fig, ax = plt.subplots()\n"
   ]
  },
  {
   "cell_type": "markdown",
   "metadata": {},
   "source": [
    "## Poloha Plazmatu - Rychlé Kamery\n",
    "Tokamak GOLEM aktuálně disponuje dvěma rychlými barevnými kamerami Photron Mini UX100. Z naměřeného signálu pak lze určit polohu plazmatu, která v porovnání s MC není ovlivněna parazitním magnetickým polem."
   ]
  },
  {
   "cell_type": "markdown",
   "metadata": {},
   "source": [
    "<table>\n",
    "  <tr>\n",
    "    <td valign=\"top\"><img src=\"Fig/setup.jpg\" width=60%></td>\n",
    "    <td valign=\"top\"><img src=\"Fig/miniUX50.png\" width=40%></td>\n",
    "  </tr>\n",
    "</table>"
   ]
  },
  {
   "cell_type": "code",
   "execution_count": null,
   "metadata": {},
   "outputs": [],
   "source": [
    "# Load horizontal and vertical position calculated from measurements of fast cameras\n",
    "r_camera = read_signal(shot_no, identifier = 'Radial', url=FCdata_URL, names=['Time', 'Radial'])\n",
    "z_camera = read_signal(shot_no, identifier = 'Vertical', url=FCdata_URL, names=['Time', 'Vertical'])\n",
    "\n",
    "# Plot \n",
    "fig, ax = plt.subplots(2,1, sharex=True)\n",
    "r_camera.plot(ax=ax[0])\n",
    "z_camera.plot(ax=ax[1])\n",
    "ax[0].set(ylim=(-85,85), xlim=(plasma_start,plasma_end), xlabel= 'Time [ms]', ylabel = '$\\Delta r$ [mm]', title = f'Plasma position - Fast Cameras #{shot_no}')\n",
    "ax[0].axhline(y=0, color='k', ls='--', lw=1, alpha=0.4)\n",
    "ax[1].set(ylim=(-85,85), xlim=(plasma_start,plasma_end), xlabel= 'Time [ms]', ylabel = '$\\Delta z$ [mm]', title = '')\n",
    "ax[1].axhline(y=0, color='k', ls='--', lw=1, alpha=0.4)\n",
    "plt.tight_layout()"
   ]
  },
  {
   "cell_type": "markdown",
   "metadata": {},
   "source": [
    "### Porovnání Polohy Plazmatu"
   ]
  },
  {
   "cell_type": "code",
   "execution_count": null,
   "metadata": {},
   "outputs": [],
   "source": [
    "# Import function from external .py file\n",
    "import compare_fc_vs_mc as fc_vs_mc\n",
    "fig_r, fig_z = fc_vs_mc.compare_fc_mc(shot_no, mode = 'advance')\n"
   ]
  },
  {
   "cell_type": "markdown",
   "metadata": {},
   "source": [
    "## **Stabilizace Plazmatu**\n",
    "<table>\n",
    "  <tr>\n",
    "    <td valign=\"top\"><img src=\"Fig/StabScheme.jpg\" width=60%></td>\n",
    "  </tr>\n",
    "</table>\n",
    "\n",
    "<table>\n",
    "  <tr>\n",
    "    <td valign=\"top\"><img src=\"Fig/field_orientation_white.png\" width=100%></td>\n",
    "    <td valign=\"top\"><img src=\"Fig/HorizontalField.png\" width=90%></td>\n",
    "    <td valign=\"top\"><img src=\"Fig/VerticalField.png\" width=90%></td>\n",
    "  </tr>\n",
    "</table>\n",
    "\n"
   ]
  },
  {
   "cell_type": "code",
   "execution_count": null,
   "metadata": {
    "tags": []
   },
   "outputs": [],
   "source": [
    "def create_data_stab(shot_no):\n",
    "    \"\"\"\n",
    "    Load and process stabilization coil current signals for a given shot\n",
    "\n",
    "    Args:\n",
    "        shot_no (int): Shot number\n",
    "\n",
    "    Returns:\n",
    "        pd.DataFrame: Time-indexed DataFrame with processed currents:\n",
    "            - I_radialStab [A]\n",
    "            - I_verticalStab [A]\n",
    "    \"\"\"\n",
    "    \n",
    "    \n",
    "    c_currentClamp = 1/0.05 # calibration constant for converting voltage to amps\n",
    "    data_stab = pd.DataFrame()\n",
    "    data_stab = pd.concat([read_signal(shot_no, identifier = pos, url=PSdata_URL, names=[f'I_{pos}Stab'], index_col = None)*c_currentClamp \n",
    "                           for pos in ['radial','vertical']], axis = 'columns');\n",
    "\n",
    "\n",
    "    # get oscilloscope's time\n",
    "    dt = float(requests.get(f'http://golem.fjfi.cvut.cz/shotdir/{shot_no}/Devices/Oscilloscopes/RigolMSO5204-a/ScopeSetup/XINC').text)*1e6\n",
    "    data_stab.index = pd.Series(np.linspace(0, dt, data_stab.shape[0])).rename('Time')\n",
    "    \n",
    "    # smooth signals\n",
    "    data_stab['I_radialStab']   = smooth(data_stab['I_radialStab'])\n",
    "    data_stab['I_verticalStab'] = smooth(data_stab['I_verticalStab'])\n",
    "    \n",
    "    return data_stab\n",
    "\n",
    "\n",
    "\n",
    "def make_quiver_plot(ax, B_stab, x, y, title_plot=None, plot_type='log', step=4, sc = 1):\n",
    "    \"\"\"\n",
    "    Plot a quiver plot of magnetic field B_stab on a coarser mesh defined by `step`.\n",
    "    \n",
    "    Args:\n",
    "        ax         : matplotlib Axes\n",
    "        B_stab     : object with .Br_sum and .Bz_sum (2D arrays)\n",
    "        x, y       : 1D arrays (original meshgrid axes)\n",
    "        title_plot : str, optional\n",
    "        plot_type  : 'log' or 'std'\n",
    "        step       : int, step size to reduce resolution\n",
    "        sc         : scaling (e.g. use for opossite current direction)\n",
    "\n",
    "    Returns:\n",
    "        ax\n",
    "        \n",
    "    \"\"\"\n",
    "    plot_type = plot_type.lower().strip() # make matching more robust\n",
    "\n",
    "    Br = B_stab.num.Br_sum*sc\n",
    "    Bz = B_stab.num.Bz_sum*sc\n",
    "\n",
    "    X, Y = np.meshgrid(x, y, indexing='ij')\n",
    "    points = np.column_stack((X.ravel(), Y.ravel()))\n",
    "    Br_vals = Br.ravel()\n",
    "    Bz_vals = Bz.ravel()\n",
    "\n",
    "    # Create a less dense grid\n",
    "    x_coarse = x[::step]\n",
    "    y_coarse = y[::step]\n",
    "    Xc, Yc = np.meshgrid(x_coarse, y_coarse, indexing='ij')\n",
    "    grid_points = np.column_stack((Xc.ravel(), Yc.ravel()))\n",
    "\n",
    "    # Interpolate to coarser grid\n",
    "    Br_interp = interpolate.griddata(points, Br_vals, grid_points, method='linear').reshape(Xc.shape)\n",
    "    Bz_interp = interpolate.griddata(points, Bz_vals, grid_points, method='linear').reshape(Xc.shape)\n",
    "\n",
    "    # Compute magnitude\n",
    "    magnitude = np.sqrt(Br_interp**2 + Bz_interp**2)\n",
    "    magnitude[magnitude == 0] = 1e-9 # avoid division by zero\n",
    "\n",
    "    if 'log' in plot_type:\n",
    "        log_magnitude = np.log10(magnitude + 1e-5)\n",
    "        Br_unit = Br_interp / magnitude\n",
    "        Bz_unit = Bz_interp / magnitude\n",
    "\n",
    "        q=ax.quiver(Xc, Yc, Br_unit, Bz_unit, log_magnitude,\n",
    "                  cmap='viridis', scale_units='xy', scale=40)\n",
    "        fig = ax.get_figure()\n",
    "        cbar = fig.colorbar(q, ax=ax)\n",
    "        \n",
    "    elif 'std' in plot_type:\n",
    "        ax.quiver(Xc, Yc, Br_interp, Bz_interp, color='tab:blue', scale=1e3)\n",
    "        \n",
    "    else:\n",
    "        raise ValueError(\"Unsupported plot_type: must be 'log' or 'std'\")\n",
    "\n",
    "    \n",
    "    ax.plot(B_stab.coord.R, B_stab.coord.Z,\n",
    "         color=\"#D95319\", linestyle='none', marker='.', linewidth=0.3, label='')\n",
    "\n",
    "    circle = patches.Circle((0.4, 0.0), 0.085, edgecolor='k', facecolor='none', linestyle='-', label='limiter', linewidth=1.6)\n",
    "    ax.add_patch(circle)\n",
    "    \n",
    "    ax.set_title(title_plot)\n",
    "    ax.set_aspect('equal')\n",
    "    \n",
    "    \n",
    "    return ax\n"
   ]
  },
  {
   "cell_type": "code",
   "execution_count": null,
   "metadata": {
    "tags": []
   },
   "outputs": [],
   "source": [
    "# Load stabilization coil current\n",
    "data_stab = create_data_stab(shot_no)\n",
    "\n",
    "# ==============================================================\n",
    "# Load Pre-calculated Mag. Field Generated by Stab. Coils\n",
    "# ==============================================================\n",
    "\n",
    "# Load .mat file with pre-calculated mag. field\n",
    "stab_matlab = loadmat('Bcoils_stabilization.mat', struct_as_record=False, squeeze_me=True)\n",
    "Bcoils      = stab_matlab['Bcoils']\n",
    "\n",
    "# Extract meshgrid\n",
    "x = Bcoils.meshgrid.x  # radial coordinate\n",
    "y = Bcoils.meshgrid.y  # vertical coordinate\n",
    "\n",
    "fig, ax= plt.subplots(1,2, figsize = (12,6))\n",
    "ax[0] = make_quiver_plot(ax[0], Bcoils.HorStab, x, y, title_plot = 'Horizontal Position Stabilization',step = 3)\n",
    "ax[1] = make_quiver_plot(ax[1], Bcoils.VertStab, x, y, title_plot = 'Vertical Position Stabilization',step = 3)\n",
    "\n",
    "for ax_i in ax.flatten():\n",
    "    ax_i.set(xlabel='R [m]', ylabel = 'Z [m]')"
   ]
  },
  {
   "cell_type": "markdown",
   "metadata": {},
   "source": [
    "# Porovnání Vybraných Výbojů"
   ]
  },
  {
   "cell_type": "code",
   "execution_count": null,
   "metadata": {
    "tags": []
   },
   "outputs": [],
   "source": [
    "def create_tab_mc(shot_no, vacuum_shot):\n",
    "    \"\"\"\n",
    "    Creates a DataFrame containing the radial position, vertical position, and plasma radius \n",
    "    calculated from magnetic (Mirnov) coil measurements.\n",
    "\n",
    "    Args:\n",
    "        shot_no (int):            Discharge number.\n",
    "        vacuum_shot (int | None): Reference vacuum shot (for stray field subtraction). \n",
    "                                  If None, stray fields are not subtracted.\n",
    "\n",
    "    Returns:\n",
    "        pd.DataFrame: DataFrame with columns:\n",
    "            - r_{shot_no} : Radial position [mm]\n",
    "            - z_{shot_no} : Vertical position [mm]\n",
    "            - a_{shot_no} : Plasma radius [mm]\n",
    "    \"\"\"\n",
    "    B_mc = pd.DataFrame()\n",
    "\n",
    "    # Iterate over four magnetic coils (MCs)\n",
    "    for nMC in [1, 9, 5, 13]:\n",
    "        # Load main signal\n",
    "        U_mc = read_signal(shot_no, identifier=nMC, url=MCdata_URL, names=['Time', f'U_mc{nMC}'])\n",
    "        U_mc = U_mc.sort_index()\n",
    "\n",
    "        if vacuum_shot is not None:\n",
    "            # Load corresponding vacuum shot signal\n",
    "            U_mc_vac = read_signal(vacuum_shot, identifier=nMC, url=MCdata_URL, names=['Time', f'U_mc{nMC}'])\n",
    "            U_mc_vac = U_mc_vac.sort_index()\n",
    "\n",
    "            # Process signal with stray field elimination\n",
    "            B_mc[f'B_mc{nMC}'] = process_magnetic_measurements(raw_data          = U_mc.iloc[:, 0],\n",
    "                                                               calibration_const = 1 / (3.8e-3),\n",
    "                                                               raw_data_vacuum   = U_mc_vac.iloc[:, 0],\n",
    "                                                               name              = f\"B_mc{nMC}\",\n",
    "                                                               eliminate_vacuum  = True,\n",
    "                                                               plot_elimination  = False) * 1e3  # Convert T to mT\n",
    "        else:\n",
    "            # Process signal without stray field elimination\n",
    "            B_mc[f'B_mc{nMC}'] = process_magnetic_measurements(raw_data          = U_mc.iloc[:, 0],\n",
    "                                                               calibration_const = 1 / (3.8e-3),\n",
    "                                                               name              = f\"B_mc{nMC}\",\n",
    "                                                               eliminate_vacuum  = False) * 1e3  # Convert T to mT\n",
    "\n",
    "    # Calculate position and size\n",
    "    r = horpos(B_mc['B_mc1'], B_mc['B_mc9'])\n",
    "    z = verpos(B_mc['B_mc5'], B_mc['B_mc13'])\n",
    "    a = plasma_radius(B_mc)\n",
    "\n",
    "    # Combine into a single DataFrame with shot-specific suffixes\n",
    "    df = pd.concat([r.rename('r'), z.rename('z'), a.rename('a')], axis='columns').add_suffix(f'_{shot_no}')\n",
    "    \n",
    "    return df\n",
    "\n",
    "\n",
    "def create_tab_cameras(shot_no):\n",
    "    \"\"\"\n",
    "    Creates a DataFrame containing the radial and vertical position of the plasma axis \n",
    "    estimated from fast camera diagnostics.\n",
    "\n",
    "    Args:\n",
    "        shot_no (int): Discharge number.\n",
    "\n",
    "    Returns:\n",
    "        pd.DataFrame: DataFrame with columns:\n",
    "            - Radial_{shot_no}  : Radial plasma position [mm]\n",
    "            - Vertical_{shot_no}: Vertical plasma position [mm]\n",
    "    \"\"\"\n",
    "    r_camera = read_signal(shot_no, identifier='Radial', url=FCdata_URL, names=['Time', 'radial'])\n",
    "    z_camera = read_signal(shot_no, identifier='Vertical', url=FCdata_URL, names=['Time', 'vertical'])\n",
    "\n",
    "    df = pd.concat([r_camera, z_camera], axis='columns').add_suffix(f'_{shot_no}')\n",
    "    \n",
    "    return df\n"
   ]
  },
  {
   "cell_type": "code",
   "execution_count": null,
   "metadata": {
    "tags": []
   },
   "outputs": [],
   "source": [
    "def compare_discharges(shots, vacuum_shots, diagnostic='MC'):\n",
    "    \"\"\"\n",
    "    Compare selected discharges using magnetic coils or camera diagnostics.\n",
    "    \n",
    "    Args:\n",
    "        shots (list of int): List of discharge shot numbers.\n",
    "        vacuum_shots (list of int): List of corresponding vacuum shot numbers (for background subtraction).\n",
    "        diagnostic (str): Type of diagnostic to use: 'MC' (Mirnov Coils) or 'FC' (Fast Cameras).\n",
    "    \"\"\"\n",
    "    \n",
    "    if 'MC' in diagnostic:\n",
    "        df_mc = pd.DataFrame()\n",
    "        # Load and combine Mirnov Coils data for each shot\n",
    "        for shot_no, vacuum_shot in zip(shots, vacuum_shots):\n",
    "            df_mc = pd.concat([df_mc, create_tab_mc(shot_no, vacuum_shot)])\n",
    "\n",
    "    # Load and combine Fast Cameras data if needed\n",
    "    elif 'FC' in diagnostic:\n",
    "        df_cameras = pd.DataFrame()\n",
    "        for shot_no in shots:\n",
    "            df_cameras = pd.concat([df_cameras, create_tab_cameras(shot_no)])\n",
    "             \n",
    "\n",
    "    # Initialize plot: 3 rows x 1 column\n",
    "    fig, ax = plt.subplots(3, 1, figsize=(10, 8), dpi=70, sharex=True)\n",
    "    fontname = 'DejaVu Sans'\n",
    "    fontsize = 15\n",
    "\n",
    "    # Signal names and colors\n",
    "    symbols  = ['r','z'] \n",
    "    position = [\"radial\", \"vertical\"]\n",
    "    colors   = ['tab:blue', 'tab:red', 'tab:orange', 'tab:green', 'tab:purple', 'tab:cyan', 'tab:olive']\n",
    "\n",
    "    for shot_no, color in zip(shots, colors):\n",
    "        # Plot mirnov coil data\n",
    "        if 'MC' in diagnostic:\n",
    "            t_start = float(requests.get(f'http://golem.fjfi.cvut.cz/shots/{shot_no}/Diagnostics/PlasmaDetection/Results/t_plasma_start').text)\n",
    "            t_end   = float(requests.get(f'http://golem.fjfi.cvut.cz/shots/{shot_no}/Diagnostics/PlasmaDetection/Results/t_plasma_end').text)\n",
    "            \n",
    "            for i in range(2):\n",
    "                df_mc[f'{symbols[i]}_{shot_no}'].plot(ax=ax[i], label=f'#{shot_no}', color=color)\n",
    "\n",
    "        # Plot fast camera data\n",
    "        elif 'FC' in diagnostic:\n",
    "            for i in range(2):\n",
    "                series = df_cameras[df_cameras[f'{position[i]}_{shot_no}'].notna()][f'{position[i]}_{shot_no}']\n",
    "                series.plot(ax=ax[i], label=f'#{shot_no}', color=color)\n",
    "\n",
    "        # Plot stabilization coil currents\n",
    "        data_stab = create_data_stab(shot_no)\n",
    "        data_stab['I_verticalStab'].plot(ax=ax[2], label=f'Vertical #{shot_no}', color=color, linestyle='-', linewidth=1.6)\n",
    "        data_stab['I_radialStab'].plot(ax=ax[2], label=f'Horizontal #{shot_no}', color=color, linestyle='-.', linewidth=1.6)\n",
    "\n",
    "    # === Axis formatting ===\n",
    "    for i in range(3):\n",
    "        if i != 2:\n",
    "            ax[i].set_ylabel(f'$\\Delta${symbols[i]} [mm]', fontname=fontname, fontweight='bold', fontsize=fontsize)\n",
    "            ax[i].axhline(y=0, color='k', linestyle='--', linewidth=1, alpha=0.4)\n",
    "            ax[i].set_ylim(-85, 85)\n",
    "        else:\n",
    "            ax[i].set_ylabel('I [A]', fontname=fontname, fontweight='bold', fontsize=fontsize)\n",
    "            ax[i].set_xlabel('Time [ms]', fontname=fontname, fontweight='bold', fontsize=fontsize)\n",
    "\n",
    "        ax[i].set_xlim(1.5, 23)\n",
    "        ax[i].grid(which='major', color='gray', linestyle='solid', linewidth=0.5)\n",
    "        ax[i].grid(which='minor', color='gray', linestyle='dashed', linewidth=0.3)\n",
    "        ax[i].tick_params(labelsize=12)\n",
    "\n",
    "        # Apply bold font to tick labels\n",
    "        ticks_font = font_manager.FontProperties(family=fontname, size=12, weight='bold')\n",
    "        for label in ax[i].get_xticklabels() + ax[i].get_yticklabels():\n",
    "            label.set_fontproperties(ticks_font)\n",
    "\n",
    "        # Format legend\n",
    "        legend = ax[i].legend(loc='best', shadow=True, fancybox=False)\n",
    "        legend.get_frame().set_linewidth(1)\n",
    "        legend.get_frame().set_edgecolor('k')\n",
    "        for text in legend.get_texts():\n",
    "            text.set_fontname(fontname)\n",
    "            text.set_fontsize(fontsize)\n",
    "        for line, text in zip(legend.get_lines(), legend.get_texts()):\n",
    "            text.set_color(line.get_color())\n",
    "\n",
    "    plt.tight_layout()\n",
    "    \n",
    "    # fig.savefig('compare_discharges.png')  # Uncomment to save the figure\n",
    "    return"
   ]
  },
  {
   "cell_type": "code",
   "execution_count": null,
   "metadata": {},
   "outputs": [],
   "source": [
    "shots        = [49263, 49264] # selected shots\n",
    "vacuum_shots = [49258, 49258] # corresponding vacuum shots\n",
    "\n",
    "compare_discharges(shots, vacuum_shots, 'FC')"
   ]
  },
  {
   "cell_type": "markdown",
   "metadata": {},
   "source": [
    "## **Bonus**: Polohová Stabilizace a Breakdown \n",
    "<table>\n",
    "  <tr>\n",
    "    <td valign=\"top\"><img src=\"Fig/field_orientation_white.png\" width=100%></td>\n",
    "    <td valign=\"top\"><img src=\"Fig/breakdown_strayField.jpg\" width=50%></td>\n",
    "  </tr>\n",
    "</table>"
   ]
  },
  {
   "cell_type": "code",
   "execution_count": null,
   "metadata": {},
   "outputs": [],
   "source": [
    "#Import function for use in comparison during breakdown"
   ]
  }
 ],
 "metadata": {
  "kernelspec": {
   "display_name": "Python 3 (ipykernel)",
   "language": "python",
   "name": "python3"
  },
  "language_info": {
   "codemirror_mode": {
    "name": "ipython",
    "version": 3
   },
   "file_extension": ".py",
   "mimetype": "text/x-python",
   "name": "python",
   "nbconvert_exporter": "python",
   "pygments_lexer": "ipython3",
   "version": "3.9.16"
  }
 },
 "nbformat": 4,
 "nbformat_minor": 4
}
